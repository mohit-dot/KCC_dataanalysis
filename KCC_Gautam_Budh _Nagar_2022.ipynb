{
 "cells": [
  {
   "cell_type": "markdown",
   "id": "f553d7f8",
   "metadata": {},
   "source": [
    "## Kisan Call Centre - Data Analysis for district Gautam Budh Nagar of year 2022"
   ]
  },
  {
   "cell_type": "code",
   "execution_count": null,
   "id": "c4b93534",
   "metadata": {},
   "outputs": [],
   "source": [
    "from urllib.request import urlopen\n",
    "import json\n",
    "import pandas as pd\n",
    "import numpy as np\n",
    "\n",
    "# Libraries for visualization\n",
    "import matplotlib.pyplot as plt\n",
    "import seaborn as sns"
   ]
  },
  {
   "cell_type": "code",
   "execution_count": null,
   "id": "b1a44775",
   "metadata": {},
   "outputs": [],
   "source": [
    "StateCD = input(\"Enter State Code : \")\n",
    "DistrictCD = input(\"Enter District Code : \")\n",
    "Year = input(\"Enter Year : \")\n",
    "\n",
    "# Sample data is following - \n",
    "# Uttar Pradesh State Code = 20\n",
    "# Gautam Budh Nagar District Code = 2063\n",
    "# Sample Year = 2022"
   ]
  },
  {
   "cell_type": "code",
   "execution_count": null,
   "id": "aee77474",
   "metadata": {},
   "outputs": [],
   "source": [
    "j =1\n",
    "list_url=[]\n",
    "df = pd.DataFrame()\n",
    "\n",
    "#\n",
    "\n",
    "for i in range(12):\n",
    "    url =  'http://dackkms.gov.in/Account/API/kKMS_QueryData.aspx?StateCD='+str(StateCD)+'&DistrictCd='+str(DistrictCD)+'&Month='+str(j)+'&Year='+str(Year)+''\n",
    "    list_url.append(url) \n",
    "    response = urlopen(url)\n",
    "    data_json = json.loads(response.read())\n",
    "    data_list = data_json['data']\n",
    "    df1 =  pd.DataFrame(data_list)\n",
    "    df = pd.concat([df, df1])\n",
    "    j+=1\n"
   ]
  },
  {
   "cell_type": "code",
   "execution_count": null,
   "id": "0583491a",
   "metadata": {},
   "outputs": [],
   "source": [
    "df.shape"
   ]
  },
  {
   "cell_type": "code",
   "execution_count": null,
   "id": "3aee00b0",
   "metadata": {},
   "outputs": [],
   "source": [
    "df.head()"
   ]
  },
  {
   "cell_type": "code",
   "execution_count": null,
   "id": "dac12294",
   "metadata": {
    "scrolled": true
   },
   "outputs": [],
   "source": [
    "df.reset_index(drop=True)"
   ]
  },
  {
   "cell_type": "code",
   "execution_count": null,
   "id": "ddfb608c",
   "metadata": {
    "scrolled": true
   },
   "outputs": [],
   "source": [
    "df.describe()"
   ]
  },
  {
   "cell_type": "code",
   "execution_count": null,
   "id": "4e2b6671",
   "metadata": {},
   "outputs": [],
   "source": [
    "df.QueryType.unique()"
   ]
  },
  {
   "cell_type": "code",
   "execution_count": null,
   "id": "04bd3638",
   "metadata": {
    "scrolled": true
   },
   "outputs": [],
   "source": [
    "df.QueryType.value_counts()"
   ]
  },
  {
   "cell_type": "markdown",
   "id": "b1f3f7aa",
   "metadata": {},
   "source": [
    "Changing the name of '\\tPlant Protection\\t' to 'Plant Protection'"
   ]
  },
  {
   "cell_type": "code",
   "execution_count": null,
   "id": "2a4d35d4",
   "metadata": {},
   "outputs": [],
   "source": [
    "df.QueryType = df.QueryType.apply(lambda x : 'Plant Protection' if x == '\\tPlant Protection\\t' else x)"
   ]
  },
  {
   "cell_type": "markdown",
   "id": "6e82fda4",
   "metadata": {},
   "source": [
    "#### Pie chart for QueryType"
   ]
  },
  {
   "cell_type": "markdown",
   "id": "78ccc052",
   "metadata": {},
   "source": [
    "For better visibility in chart taking top 10 'QueryType'. Rest types are labelled as 'Other'."
   ]
  },
  {
   "cell_type": "code",
   "execution_count": null,
   "id": "ac23a503",
   "metadata": {},
   "outputs": [],
   "source": [
    "value_percentage = df['QueryType'].value_counts()"
   ]
  },
  {
   "cell_type": "code",
   "execution_count": null,
   "id": "25cee52f",
   "metadata": {},
   "outputs": [],
   "source": [
    "print(type(value_percentage))"
   ]
  },
  {
   "cell_type": "code",
   "execution_count": null,
   "id": "1b6b5395",
   "metadata": {},
   "outputs": [],
   "source": [
    "print(value_percentage[:10])"
   ]
  },
  {
   "cell_type": "code",
   "execution_count": null,
   "id": "42f59466",
   "metadata": {},
   "outputs": [],
   "source": [
    "df['QueryType'] = df['QueryType'].apply(lambda x : x if x in value_percentage[:10] else 'Other')"
   ]
  },
  {
   "cell_type": "code",
   "execution_count": null,
   "id": "e504c22c",
   "metadata": {},
   "outputs": [],
   "source": [
    "df.QueryType.value_counts()"
   ]
  },
  {
   "cell_type": "code",
   "execution_count": null,
   "id": "732924ce",
   "metadata": {},
   "outputs": [],
   "source": [
    "df.shape"
   ]
  },
  {
   "cell_type": "code",
   "execution_count": null,
   "id": "6080cdf6",
   "metadata": {},
   "outputs": [],
   "source": [
    "df.columns"
   ]
  },
  {
   "cell_type": "markdown",
   "id": "23c08815",
   "metadata": {},
   "source": [
    "Creating list of the values of QueryType in the decending order of value counts. This list will be used in pie chart. "
   ]
  },
  {
   "cell_type": "code",
   "execution_count": null,
   "id": "187f4a56",
   "metadata": {},
   "outputs": [],
   "source": [
    "value_top = df.QueryType.value_counts()\n",
    "sorted_counts = value_top.sort_values(ascending=False)\n",
    "sorted_list = sorted_counts.index.tolist()"
   ]
  },
  {
   "cell_type": "code",
   "execution_count": null,
   "id": "513b0bac",
   "metadata": {},
   "outputs": [],
   "source": [
    "palette_color = sns.color_palette('BuGn')\n",
    "plt.pie(df['QueryType'].value_counts(), labels = sorted_list, radius=4.0, autopct = '%.02f%%',\n",
    "        colors=palette_color, textprops={'fontsize': 17})\n",
    "#plt.title('Distribution of queries across Query Types')\n",
    "\n",
    "# Show the plot\n",
    "plt.show()"
   ]
  },
  {
   "cell_type": "markdown",
   "id": "5f12f0f9",
   "metadata": {},
   "source": [
    "#### Pie chart for Sector"
   ]
  },
  {
   "cell_type": "code",
   "execution_count": null,
   "id": "0ce9c5be",
   "metadata": {
    "scrolled": true
   },
   "outputs": [],
   "source": [
    "print(df.Sector.value_counts())"
   ]
  },
  {
   "cell_type": "code",
   "execution_count": null,
   "id": "490e268a",
   "metadata": {},
   "outputs": [],
   "source": [
    "Sector_list = df['Sector'].unique()"
   ]
  },
  {
   "cell_type": "code",
   "execution_count": null,
   "id": "e20a1bc1",
   "metadata": {},
   "outputs": [],
   "source": [
    "print(Sector_list)"
   ]
  },
  {
   "cell_type": "code",
   "execution_count": null,
   "id": "9bdb78d5",
   "metadata": {},
   "outputs": [],
   "source": [
    "palette_color = sns.color_palette('RdPu')\n",
    "plt.pie(df['Sector'].value_counts(), labels = Sector_list, radius=3.0, autopct = '%.02f%%',\n",
    "        colors=palette_color, textprops={'fontsize': 13})\n",
    "plt.title('Distribution of queries across Sectors')\n",
    "\n",
    "# Show the plot\n",
    "plt.show()"
   ]
  },
  {
   "cell_type": "markdown",
   "id": "cf2da674",
   "metadata": {},
   "source": [
    "#### Pie chart for Category"
   ]
  },
  {
   "cell_type": "markdown",
   "id": "e65a46ab",
   "metadata": {},
   "source": [
    "For better visibility in chart taking top 10 Categories. Rest types are labelled as 'Rest_category'."
   ]
  },
  {
   "cell_type": "code",
   "execution_count": null,
   "id": "b7cd43e1",
   "metadata": {},
   "outputs": [],
   "source": [
    "value_percentage_category = df['Category'].value_counts()"
   ]
  },
  {
   "cell_type": "code",
   "execution_count": null,
   "id": "be36b279",
   "metadata": {},
   "outputs": [],
   "source": [
    "df.Category.unique()"
   ]
  },
  {
   "cell_type": "code",
   "execution_count": null,
   "id": "dcf8e64c",
   "metadata": {},
   "outputs": [],
   "source": [
    "print(type(value_percentage_category))"
   ]
  },
  {
   "cell_type": "code",
   "execution_count": null,
   "id": "7e996ebf",
   "metadata": {},
   "outputs": [],
   "source": [
    "print(value_percentage_category[:10])"
   ]
  },
  {
   "cell_type": "code",
   "execution_count": null,
   "id": "24558128",
   "metadata": {},
   "outputs": [],
   "source": [
    "df['Category'] = df['Category'].apply(lambda x : x if x in value_percentage_category[:10] else 'Rest_category')"
   ]
  },
  {
   "cell_type": "code",
   "execution_count": null,
   "id": "25e32d2d",
   "metadata": {},
   "outputs": [],
   "source": [
    "df.Category.value_counts()"
   ]
  },
  {
   "cell_type": "code",
   "execution_count": null,
   "id": "b5d0db99",
   "metadata": {},
   "outputs": [],
   "source": [
    "df.shape"
   ]
  },
  {
   "cell_type": "code",
   "execution_count": null,
   "id": "4a842fbd",
   "metadata": {},
   "outputs": [],
   "source": [
    "df.columns"
   ]
  },
  {
   "cell_type": "markdown",
   "id": "47c79521",
   "metadata": {},
   "source": [
    "Creating list of the values of Categories in the decending order of value counts. This list will be used in pie chart. "
   ]
  },
  {
   "cell_type": "code",
   "execution_count": null,
   "id": "32a2b55f",
   "metadata": {},
   "outputs": [],
   "source": [
    "value_top_category = df.Category.value_counts()\n",
    "sorted_counts_category = value_top_category.sort_values(ascending=False)\n",
    "sorted_list_category = sorted_counts_category.index.tolist()"
   ]
  },
  {
   "cell_type": "code",
   "execution_count": null,
   "id": "0e4ae416",
   "metadata": {},
   "outputs": [],
   "source": [
    "print(df.Category.value_counts())"
   ]
  },
  {
   "cell_type": "code",
   "execution_count": null,
   "id": "e8a4eecd",
   "metadata": {},
   "outputs": [],
   "source": [
    "palette_color = sns.color_palette('RdPu')\n",
    "plt.pie(df['Category'].value_counts(), labels = sorted_list_category, radius=3.0, autopct = '%.02f%%',\n",
    "        colors=palette_color, textprops={'fontsize': 13})\n",
    "#plt.title('Distribution of queries across Categories')\n",
    "\n",
    "# Show the plot\n",
    "plt.show()"
   ]
  },
  {
   "cell_type": "code",
   "execution_count": null,
   "id": "084446d9",
   "metadata": {},
   "outputs": [],
   "source": []
  },
  {
   "cell_type": "markdown",
   "id": "1842c0b4",
   "metadata": {},
   "source": [
    "#### Pie chart for Crop"
   ]
  },
  {
   "cell_type": "markdown",
   "id": "e6bdbc89",
   "metadata": {},
   "source": [
    "For better visibility in chart taking top 10 crops. Rest types are labelled as 'Rest_Crop'."
   ]
  },
  {
   "cell_type": "code",
   "execution_count": null,
   "id": "f87476ca",
   "metadata": {},
   "outputs": [],
   "source": [
    "value_percentage_crop = df['Crop'].value_counts()"
   ]
  },
  {
   "cell_type": "code",
   "execution_count": null,
   "id": "5f014b48",
   "metadata": {},
   "outputs": [],
   "source": [
    "df.Crop.unique()"
   ]
  },
  {
   "cell_type": "code",
   "execution_count": null,
   "id": "587c11fa",
   "metadata": {},
   "outputs": [],
   "source": [
    "print(type(value_percentage_crop))"
   ]
  },
  {
   "cell_type": "code",
   "execution_count": null,
   "id": "41fa675b",
   "metadata": {},
   "outputs": [],
   "source": [
    "print(value_percentage_crop[:10])"
   ]
  },
  {
   "cell_type": "code",
   "execution_count": null,
   "id": "1ebad059",
   "metadata": {},
   "outputs": [],
   "source": [
    "df['Crop'] = df['Crop'].apply(lambda x : x if x in value_percentage_crop[:10] else 'Rest_Crop')"
   ]
  },
  {
   "cell_type": "code",
   "execution_count": null,
   "id": "e83cf0e3",
   "metadata": {},
   "outputs": [],
   "source": [
    "df.Crop.value_counts()"
   ]
  },
  {
   "cell_type": "code",
   "execution_count": null,
   "id": "ad64dc83",
   "metadata": {},
   "outputs": [],
   "source": [
    "df.shape"
   ]
  },
  {
   "cell_type": "code",
   "execution_count": null,
   "id": "7a099568",
   "metadata": {},
   "outputs": [],
   "source": [
    "df.columns"
   ]
  },
  {
   "cell_type": "markdown",
   "id": "cfcf93ee",
   "metadata": {},
   "source": [
    "Creating list of the values of Crop in the decending order of value counts. This list will be used in pie chart. "
   ]
  },
  {
   "cell_type": "code",
   "execution_count": null,
   "id": "a93a34e3",
   "metadata": {},
   "outputs": [],
   "source": [
    "value_top_crop = df.Crop.value_counts()\n",
    "sorted_counts_crop = value_top_crop.sort_values(ascending=False)\n",
    "sorted_list_crop = sorted_counts_crop.index.tolist()"
   ]
  },
  {
   "cell_type": "code",
   "execution_count": null,
   "id": "21444929",
   "metadata": {},
   "outputs": [],
   "source": [
    "print(df.Crop.value_counts())"
   ]
  },
  {
   "cell_type": "code",
   "execution_count": null,
   "id": "ce4ea7bc",
   "metadata": {},
   "outputs": [],
   "source": [
    "palette_color = sns.color_palette('BuGn')\n",
    "plt.pie(df['Crop'].value_counts(), labels = sorted_list_crop, radius=4.0, autopct = '%.02f%%',\n",
    "        colors=palette_color, textprops={'fontsize': 17})\n",
    "#plt.title('Distribution of queries across Crops')\n",
    "# Show the plot\n",
    "plt.show()"
   ]
  },
  {
   "cell_type": "code",
   "execution_count": null,
   "id": "f82ef8c7",
   "metadata": {},
   "outputs": [],
   "source": []
  },
  {
   "cell_type": "markdown",
   "id": "801e7933",
   "metadata": {},
   "source": [
    "#### Pie chart for Season"
   ]
  },
  {
   "cell_type": "code",
   "execution_count": null,
   "id": "d0b33858",
   "metadata": {},
   "outputs": [],
   "source": [
    "print(df.Season.value_counts())"
   ]
  },
  {
   "cell_type": "code",
   "execution_count": null,
   "id": "dc12939b",
   "metadata": {},
   "outputs": [],
   "source": [
    "Season_list = df['Season'].unique()"
   ]
  },
  {
   "cell_type": "code",
   "execution_count": null,
   "id": "d7f087fa",
   "metadata": {},
   "outputs": [],
   "source": [
    "palette_color = sns.color_palette('BuGn')\n",
    "plt.pie(df['Season'].value_counts(), labels = Season_list, radius=3.0, autopct = '%.02f%%',\n",
    "        colors=palette_color, textprops={'fontsize': 17})\n",
    "#plt.title('Distribution of queries across Seasons')\n",
    "# Show the plot\n",
    "plt.show()"
   ]
  },
  {
   "cell_type": "code",
   "execution_count": null,
   "id": "0434aa6d",
   "metadata": {},
   "outputs": [],
   "source": []
  },
  {
   "cell_type": "code",
   "execution_count": null,
   "id": "2270bf31",
   "metadata": {},
   "outputs": [],
   "source": []
  },
  {
   "cell_type": "code",
   "execution_count": null,
   "id": "376ef856",
   "metadata": {},
   "outputs": [],
   "source": []
  }
 ],
 "metadata": {
  "kernelspec": {
   "display_name": "Python 3 (ipykernel)",
   "language": "python",
   "name": "python3"
  },
  "language_info": {
   "codemirror_mode": {
    "name": "ipython",
    "version": 3
   },
   "file_extension": ".py",
   "mimetype": "text/x-python",
   "name": "python",
   "nbconvert_exporter": "python",
   "pygments_lexer": "ipython3",
   "version": "3.9.7"
  }
 },
 "nbformat": 4,
 "nbformat_minor": 5
}
